{
 "cells": [
  {
   "cell_type": "markdown",
   "metadata": {},
   "source": [
    "# Web Scraping Lab\n",
    "\n",
    "You will find in this notebook some scrapy exercises to practise your scraping skills.\n",
    "\n",
    "**Tips:**\n",
    "\n",
    "- Check the response status code for each request to ensure you have obtained the intended contennt.\n",
    "- Print the response text in each request to understand the kind of info you are getting and its format.\n",
    "- Check for patterns in the response text to extract the data/info requested in each question.\n",
    "- Visit each url and take a look at its source through Chrome DevTools. You'll need to identify the html tags, special class names etc. used for the html content you are expected to extract."
   ]
  },
  {
   "cell_type": "markdown",
   "metadata": {},
   "source": [
    "- [Requests library](http://docs.python-requests.org/en/master/#the-user-guide) documentation \n",
    "- [Beautiful Soup Doc](https://www.crummy.com/software/BeautifulSoup/bs4/doc/)\n",
    "- [Urllib](https://docs.python.org/3/library/urllib.html#module-urllib)\n",
    "- [re lib](https://docs.python.org/3/library/re.html)\n",
    "- [lxml lib](https://lxml.de/)\n",
    "- [Scrapy](https://scrapy.org/)\n",
    "- [List of HTTP status codes](https://en.wikipedia.org/wiki/List_of_HTTP_status_codes)\n",
    "- [HTML basics](http://www.simplehtmlguide.com/cheatsheet.php)\n",
    "- [CSS basics](https://www.cssbasics.com/#page_start)"
   ]
  },
  {
   "cell_type": "markdown",
   "metadata": {},
   "source": [
    "#### Below are the libraries and modules you may need. `requests`,  `BeautifulSoup` and `pandas` are imported for you. If you prefer to use additional libraries feel free to uncomment them."
   ]
  },
  {
   "cell_type": "code",
   "execution_count": 1,
   "metadata": {},
   "outputs": [],
   "source": [
    "import requests\n",
    "from bs4 import BeautifulSoup\n",
    "import pandas as pd\n",
    "from pprint import pprint\n",
    "from lxml import html\n",
    "from lxml.html import fromstring\n",
    "import urllib.request\n",
    "from urllib.request import urlopen\n",
    "import random\n",
    "import regex as re\n",
    "import scrapy\n",
    "import numpy as np"
   ]
  },
  {
   "cell_type": "markdown",
   "metadata": {},
   "source": [
    "#### Download, parse (using BeautifulSoup), and print the content from the Trending Developers page from GitHub:"
   ]
  },
  {
   "cell_type": "code",
   "execution_count": 2,
   "metadata": {},
   "outputs": [],
   "source": [
    "url = 'https://github.com/trending/developers'"
   ]
  },
  {
   "cell_type": "code",
   "execution_count": 3,
   "metadata": {},
   "outputs": [],
   "source": [
    "page = requests.get(url)\n",
    "soup = BeautifulSoup(page.content,\"html.parser\")"
   ]
  },
  {
   "cell_type": "code",
   "execution_count": 4,
   "metadata": {},
   "outputs": [],
   "source": [
    "dt = soup.find_all(\"h1\",class_=\"h3 lh-condensed\")\n"
   ]
  },
  {
   "cell_type": "code",
   "execution_count": 5,
   "metadata": {},
   "outputs": [],
   "source": [
    "developers = list()\n",
    "for i in dt:\n",
    "    developers.append(i.text)"
   ]
  },
  {
   "cell_type": "code",
   "execution_count": 6,
   "metadata": {},
   "outputs": [
    {
     "name": "stdout",
     "output_type": "stream",
     "text": [
      "['\\n\\n            William Candillon\\n ', '\\n\\n            Han Xiao\\n ', '\\n\\n            Arvid Norberg\\n ', '\\n\\n            Franck Nijhof\\n ', '\\n\\n            Javier Suárez\\n ', '\\n\\n            Manfred Touron\\n ', '\\n\\n            Rob Norris\\n ', '\\n\\n            Chocobozzz\\n ', '\\n\\n            Ruslan Konviser\\n ', '\\n\\n            Eric Niebler\\n ', '\\n\\n            MinJae Kwon\\n ', '\\n\\n            Carlos Alexandro Becker\\n ', '\\n\\n            Taylor Otwell\\n ', '\\n\\n            Fred K. Schott\\n ', '\\n\\n            Igor Randjelovic\\n ', '\\n\\n            Tim Gross\\n ', '\\n\\n            Fons van der Plas\\n ', '\\n\\n            Rico Huijbers\\n ', '\\n\\n            Zoltan Kochan\\n ', '\\n\\n            Benoit Chesneau\\n ', '\\n\\n            Kazuho Oku\\n ', '\\n\\n            Matt Perry\\n ', '\\n\\n            Jake Archibald\\n ', '\\n\\n            Tom Moor\\n ', '\\n\\n            Daichi Furiya\\n ']\n"
     ]
    }
   ],
   "source": [
    "print(developers)"
   ]
  },
  {
   "cell_type": "markdown",
   "metadata": {},
   "source": [
    "#### Display the names of the trending developers retrieved in the previous step.\n",
    "\n",
    "Your output should be a Python list of developer names. Each name should not contain any html tag.\n",
    "\n",
    "**Instructions:**\n",
    "\n",
    "1. Find out the html tag and class names used for the developer names. You can achieve this using Chrome DevTools.\n",
    "\n",
    "1. Use BeautifulSoup to extract all the html elements that contain the developer names.\n",
    "\n",
    "1. Use string manipulation techniques to replace whitespaces and linebreaks (i.e. `\\n`) in the *text* of each html element. Use a list to store the clean names.\n",
    "\n",
    "1. Print the list of names.\n",
    "\n",
    "Your output should look like below:\n",
    "\n",
    "```\n",
    "['trimstray (@trimstray)',\n",
    " 'joewalnes (JoeWalnes)',\n",
    " 'charlax (Charles-AxelDein)',\n",
    " 'ForrestKnight (ForrestKnight)',\n",
    " 'revery-ui (revery-ui)',\n",
    " 'alibaba (Alibaba)',\n",
    " 'Microsoft (Microsoft)',\n",
    " 'github (GitHub)',\n",
    " 'facebook (Facebook)',\n",
    " 'boazsegev (Bo)',\n",
    " 'google (Google)',\n",
    " 'cloudfetch',\n",
    " 'sindresorhus (SindreSorhus)',\n",
    " 'tensorflow',\n",
    " 'apache (TheApacheSoftwareFoundation)',\n",
    " 'DevonCrawford (DevonCrawford)',\n",
    " 'ARMmbed (ArmMbed)',\n",
    " 'vuejs (vuejs)',\n",
    " 'fastai (fast.ai)',\n",
    " 'QiShaoXuan (Qi)',\n",
    " 'joelparkerhenderson (JoelParkerHenderson)',\n",
    " 'torvalds (LinusTorvalds)',\n",
    " 'CyC2018',\n",
    " 'komeiji-satori (神楽坂覚々)',\n",
    " 'script-8']\n",
    " ```"
   ]
  },
  {
   "cell_type": "code",
   "execution_count": null,
   "metadata": {},
   "outputs": [],
   "source": [
    "\n"
   ]
  },
  {
   "cell_type": "markdown",
   "metadata": {},
   "source": [
    "#### Display the trending Python repositories in GitHub\n",
    "\n",
    "The steps to solve this problem is similar to the previous one except that you need to find out the repository names instead of developer names."
   ]
  },
  {
   "cell_type": "code",
   "execution_count": 7,
   "metadata": {},
   "outputs": [],
   "source": [
    "# This is the url you will scrape in this exercise\n",
    "url2 = 'https://github.com/trending/python?since=daily'"
   ]
  },
  {
   "cell_type": "code",
   "execution_count": 8,
   "metadata": {},
   "outputs": [
    {
     "name": "stdout",
     "output_type": "stream",
     "text": [
      "['→', '→', '→', '→', '→', '→', '→', '\\n        mingrammer /\\n', '\\n        PyTorchLightning /\\n', '\\n        scikit-learn /\\n', '\\n        baowenbo /\\n', '\\n        Rudrabha /\\n', '\\n        blacklanternsecurity /\\n', '\\n        facebookresearch /\\n', '\\n        vaastav /\\n', '\\n        huangsam /\\n', '\\n        kangvcar /\\n', '\\n        sowdust /\\n', '\\n        celery /\\n', '\\n        huggingface /\\n', '\\n        fighting41love /\\n', '\\n        Kr1s77 /\\n', '\\n        iGhibli /\\n', '\\n        home-assistant /\\n', '\\n        MobSF /\\n', '\\n        geekcomputers /\\n', '\\n        tzutalin /\\n', '\\n        sunainapai /\\n', '\\n        aristocratos /\\n', '\\n        richzhang /\\n', '\\n        apache /\\n', '\\n        RasaHQ /\\n']\n"
     ]
    }
   ],
   "source": [
    "#your code\n",
    "page = requests.get(url2)\n",
    "soup = BeautifulSoup(page.content,\"html.parser\")\n",
    "dt = soup.find_all(\"span\",class_=\"text-normal\")\n",
    "repositories = list()\n",
    "for i in dt:\n",
    "    repositories.append(i.text)\n",
    "print(repositories)\n"
   ]
  },
  {
   "cell_type": "markdown",
   "metadata": {},
   "source": [
    "#### Display all the image links from Walt Disney wikipedia page"
   ]
  },
  {
   "cell_type": "code",
   "execution_count": 9,
   "metadata": {},
   "outputs": [],
   "source": [
    "# This is the url you will scrape in this exercise\n",
    "url3 = 'https://en.wikipedia.org/wiki/Walt_Disney'"
   ]
  },
  {
   "cell_type": "code",
   "execution_count": 10,
   "metadata": {},
   "outputs": [],
   "source": [
    "#your code\n",
    "#page = requests.get(url3)\n",
    "#soup = BeautifulSoup(page.content,\"html.parser\")\n",
    "#dt = soup.find_all(\"img\")\n",
    "#images = list()\n",
    "#for i in dt:\n",
    "#    images.append(i.image)\n",
    "#print(images)\n"
   ]
  },
  {
   "cell_type": "markdown",
   "metadata": {},
   "source": [
    "#### Retrieve an arbitary Wikipedia page of \"Python\" and create a list of links on that page"
   ]
  },
  {
   "cell_type": "code",
   "execution_count": 11,
   "metadata": {},
   "outputs": [],
   "source": [
    "# This is the url you will scrape in this exercise\n",
    "url ='https://en.wikipedia.org/wiki/Python' "
   ]
  },
  {
   "cell_type": "code",
   "execution_count": 12,
   "metadata": {},
   "outputs": [],
   "source": [
    "#your code"
   ]
  },
  {
   "cell_type": "markdown",
   "metadata": {},
   "source": [
    "#### Number of Titles that have changed in the United States Code since its last release point "
   ]
  },
  {
   "cell_type": "code",
   "execution_count": 13,
   "metadata": {},
   "outputs": [],
   "source": [
    "# This is the url you will scrape in this exercise\n",
    "url = 'http://uscode.house.gov/download/download.shtml'"
   ]
  },
  {
   "cell_type": "code",
   "execution_count": 14,
   "metadata": {},
   "outputs": [],
   "source": [
    "#your code"
   ]
  },
  {
   "cell_type": "markdown",
   "metadata": {},
   "source": [
    "#### A Python list with the top ten FBI's Most Wanted names "
   ]
  },
  {
   "cell_type": "code",
   "execution_count": 15,
   "metadata": {},
   "outputs": [],
   "source": [
    "# This is the url you will scrape in this exercise\n",
    "url6 = 'https://www.fbi.gov/wanted/topten'"
   ]
  },
  {
   "cell_type": "code",
   "execution_count": 22,
   "metadata": {},
   "outputs": [
    {
     "ename": "TypeError",
     "evalue": "expected string or buffer",
     "output_type": "error",
     "traceback": [
      "\u001b[0;31m---------------------------------------------------------------------------\u001b[0m",
      "\u001b[0;31mTypeError\u001b[0m                                 Traceback (most recent call last)",
      "\u001b[0;32m<ipython-input-22-f02a2baa7ea0>\u001b[0m in \u001b[0;36m<module>\u001b[0;34m\u001b[0m\n\u001b[1;32m      5\u001b[0m \u001b[0;32mfor\u001b[0m \u001b[0mi\u001b[0m \u001b[0;32min\u001b[0m \u001b[0mdt\u001b[0m\u001b[0;34m:\u001b[0m\u001b[0;34m\u001b[0m\u001b[0;34m\u001b[0m\u001b[0m\n\u001b[1;32m      6\u001b[0m     \u001b[0mfbi\u001b[0m\u001b[0;34m.\u001b[0m\u001b[0mappend\u001b[0m\u001b[0;34m(\u001b[0m\u001b[0mi\u001b[0m\u001b[0;34m.\u001b[0m\u001b[0mtext\u001b[0m\u001b[0;34m)\u001b[0m\u001b[0;34m\u001b[0m\u001b[0;34m\u001b[0m\u001b[0m\n\u001b[0;32m----> 7\u001b[0;31m \u001b[0mg\u001b[0m \u001b[0;34m=\u001b[0m \u001b[0mre\u001b[0m\u001b[0;34m.\u001b[0m\u001b[0mfindall\u001b[0m\u001b[0;34m(\u001b[0m\u001b[0;34mr\"[A-Z]+\\s[A-Z]+\\s[A-Z]+?\"\u001b[0m\u001b[0;34m,\u001b[0m\u001b[0mfbi\u001b[0m\u001b[0;34m)\u001b[0m\u001b[0;34m\u001b[0m\u001b[0;34m\u001b[0m\u001b[0m\n\u001b[0m",
      "\u001b[0;32m~/Library/Python/3.7/lib/python/site-packages/regex/regex.py\u001b[0m in \u001b[0;36mfindall\u001b[0;34m(pattern, string, flags, pos, endpos, overlapped, concurrent, timeout, ignore_unused, **kwargs)\u001b[0m\n\u001b[1;32m    335\u001b[0m     more than one group. Empty matches are included in the result.\"\"\"\n\u001b[1;32m    336\u001b[0m     return _compile(pattern, flags, ignore_unused, kwargs).findall(string, pos,\n\u001b[0;32m--> 337\u001b[0;31m       endpos, overlapped, concurrent, timeout)\n\u001b[0m\u001b[1;32m    338\u001b[0m \u001b[0;34m\u001b[0m\u001b[0m\n\u001b[1;32m    339\u001b[0m def finditer(pattern, string, flags=0, pos=None, endpos=None, overlapped=False,\n",
      "\u001b[0;31mTypeError\u001b[0m: expected string or buffer"
     ]
    }
   ],
   "source": [
    "page = requests.get(url6)\n",
    "soup = BeautifulSoup(page.content,\"html.parser\")\n",
    "dt = soup.find_all(\"a\")\n",
    "fbi = list()\n",
    "for i in dt:\n",
    "    fbi.append(i.text)\n",
    "g = re.findall(r\"[A-Z]+\\s[A-Z]+\\s[A-Z]+?\",fbi)\n"
   ]
  },
  {
   "cell_type": "code",
   "execution_count": 19,
   "metadata": {},
   "outputs": [
    {
     "data": {
      "text/plain": [
       "['Submit Search  Search',\n",
       " 'FBI',\n",
       " 'Most Wanted',\n",
       " 'News',\n",
       " 'What We Investigate',\n",
       " 'Services',\n",
       " 'Resources',\n",
       " 'Submit a Tip',\n",
       " 'About',\n",
       " 'Contact Us',\n",
       " '\\nHome\\n\\n\\n\\n',\n",
       " 'Most Wanted',\n",
       " 'Facebook Icon\\n',\n",
       " 'Email Icon\\n',\n",
       " 'Twitter Icon\\n',\n",
       " 'Youtube Icon\\n',\n",
       " 'Flickr Icon\\n',\n",
       " 'LinkedIn Icon\\n',\n",
       " 'Instagram Icon',\n",
       " '  FBIFederal Bureau of Investigation ',\n",
       " 'Most Wanted',\n",
       " 'Ten Most Wanted Fugitives',\n",
       " 'Fugitives',\n",
       " 'Operation Legend',\n",
       " 'Terrorism',\n",
       " 'Kidnappings/Missing Persons',\n",
       " 'Seeking Info',\n",
       " 'Parental Kidnappings',\n",
       " 'Bank Robbers',\n",
       " 'ECAP',\n",
       " 'ViCAP',\n",
       " 'Ten Most Wanted Fugitives FAQ',\n",
       " 'Ten Most Wanted History Pictures',\n",
       " '\\n\\n',\n",
       " 'ARNOLDO JIMENEZ',\n",
       " '\\n\\n',\n",
       " 'JASON DEREK BROWN',\n",
       " '\\n\\n',\n",
       " 'YASER ABDEL SAID',\n",
       " '\\n\\n',\n",
       " 'ALEXIS FLORES',\n",
       " '\\n\\n',\n",
       " 'EUGENE PALMER',\n",
       " '\\n\\n',\n",
       " 'RAFAEL CARO-QUINTERO',\n",
       " '\\n\\n',\n",
       " 'ROBERT WILLIAM FISHER',\n",
       " '\\n\\n',\n",
       " 'BHADRESHKUMAR CHETANBHAI PATEL',\n",
       " '\\n\\n',\n",
       " 'ALEJANDRO ROSALES CASTILLO',\n",
       " '\\n\\n',\n",
       " 'SANTIAGO VILLALBA MEDEROS',\n",
       " 'Ten Most Wanted Fugitives FAQ',\n",
       " 'Historical Photos of Each Top Ten\\xa0Fugitive\\ufeff',\n",
       " '60th Anniversary Booklet',\n",
       " 'Most Wanted',\n",
       " 'Ten Most Wanted',\n",
       " 'Fugitives',\n",
       " 'Terrorism',\n",
       " 'Kidnappings/Missing Persons',\n",
       " 'Seeking Information',\n",
       " 'Bank Robbers',\n",
       " 'ECAP',\n",
       " 'ViCAP',\n",
       " 'News',\n",
       " 'Stories',\n",
       " 'Videos',\n",
       " 'Press Releases',\n",
       " 'Speeches',\n",
       " 'Testimony',\n",
       " 'Podcasts and Radio',\n",
       " 'Photos',\n",
       " 'Español',\n",
       " 'Apps',\n",
       " 'What We Investigate',\n",
       " 'Terrorism',\n",
       " 'Counterintelligence',\n",
       " 'Cyber Crime',\n",
       " 'Public Corruption',\n",
       " 'Civil Rights',\n",
       " 'Organized Crime',\n",
       " 'White-Collar Crime',\n",
       " 'Violent Crime',\n",
       " 'WMD',\n",
       " 'Services',\n",
       " 'CJIS',\n",
       " 'CIRG',\n",
       " 'Laboratory Services',\n",
       " 'Training Academy',\n",
       " 'Operational Technology',\n",
       " 'Information Management',\n",
       " 'About',\n",
       " 'Mission & Priorities',\n",
       " 'Leadership & Structure',\n",
       " 'Partnerships',\n",
       " 'Community Outreach',\n",
       " 'FAQs',\n",
       " 'Resources',\n",
       " 'Law Enforcement',\n",
       " 'Businesses',\n",
       " 'Victim Assistance',\n",
       " 'Reports and Publications',\n",
       " 'Contact Us',\n",
       " 'Field Offices',\n",
       " 'FBI Headquarters',\n",
       " 'Overseas Offices',\n",
       " 'FBI Jobs',\n",
       " 'Submit a Tip',\n",
       " 'Crime Statistics',\n",
       " 'History',\n",
       " 'FOIPA',\n",
       " 'Scams & Safety',\n",
       " 'FBI Kids',\n",
       " 'FBI Tour',\n",
       " 'Accessibility',\n",
       " 'eRulemaking',\n",
       " 'Freedom of Information/Privacy Act',\n",
       " 'Legal Notices',\n",
       " 'Legal Policies and Disclaimers',\n",
       " 'Links',\n",
       " 'Privacy Policy',\n",
       " 'USA.gov',\n",
       " 'White House',\n",
       " 'No FEAR Act',\n",
       " 'U.S. Department of Justice',\n",
       " 'Home',\n",
       " 'Most Wanted',\n",
       " 'News',\n",
       " 'What We Investigate',\n",
       " 'Services',\n",
       " 'Resources',\n",
       " 'Submit a Tip',\n",
       " 'About',\n",
       " 'Contact Us',\n",
       " 'Crime Statistics',\n",
       " 'Photos',\n",
       " 'Video',\n",
       " 'Outreach',\n",
       " 'History',\n",
       " 'FOIA',\n",
       " 'Scams & Safety',\n",
       " 'FBI Kids',\n",
       " 'FBI Jobs',\n",
       " 'Subscribe',\n",
       " 'No Thanks']"
      ]
     },
     "execution_count": 19,
     "metadata": {},
     "output_type": "execute_result"
    }
   ],
   "source": [
    "fbi"
   ]
  },
  {
   "cell_type": "code",
   "execution_count": null,
   "metadata": {},
   "outputs": [],
   "source": []
  },
  {
   "cell_type": "code",
   "execution_count": null,
   "metadata": {},
   "outputs": [],
   "source": [
    "print(fbi)"
   ]
  },
  {
   "cell_type": "markdown",
   "metadata": {},
   "source": [
    "####  20 latest earthquakes info (date, time, latitude, longitude and region name) by the EMSC as a pandas dataframe"
   ]
  },
  {
   "cell_type": "code",
   "execution_count": null,
   "metadata": {},
   "outputs": [],
   "source": [
    "# This is the url you will scrape in this exercise\n",
    "url = 'https://www.emsc-csem.org/Earthquake/'"
   ]
  },
  {
   "cell_type": "code",
   "execution_count": null,
   "metadata": {},
   "outputs": [],
   "source": [
    "#your code"
   ]
  },
  {
   "cell_type": "markdown",
   "metadata": {},
   "source": [
    "#### Display the date, days, title, city, country of next 25 hackathon events as a Pandas dataframe table"
   ]
  },
  {
   "cell_type": "code",
   "execution_count": null,
   "metadata": {},
   "outputs": [],
   "source": [
    "# This is the url you will scrape in this exercise\n",
    "url ='https://hackevents.co/hackathons'"
   ]
  },
  {
   "cell_type": "code",
   "execution_count": null,
   "metadata": {},
   "outputs": [],
   "source": [
    "#your code"
   ]
  },
  {
   "cell_type": "markdown",
   "metadata": {},
   "source": [
    "#### Count number of tweets by a given Twitter account."
   ]
  },
  {
   "cell_type": "markdown",
   "metadata": {},
   "source": [
    "You will need to include a ***try/except block*** for account names not found. \n",
    "<br>***Hint:*** the program should count the number of tweets for any provided account"
   ]
  },
  {
   "cell_type": "code",
   "execution_count": null,
   "metadata": {},
   "outputs": [],
   "source": [
    "# This is the url you will scrape in this exercise \n",
    "# You will need to add the account credentials to this url\n",
    "url = 'https://twitter.com/'"
   ]
  },
  {
   "cell_type": "code",
   "execution_count": null,
   "metadata": {},
   "outputs": [],
   "source": [
    "#your code"
   ]
  },
  {
   "cell_type": "markdown",
   "metadata": {},
   "source": [
    "#### Number of followers of a given twitter account"
   ]
  },
  {
   "cell_type": "markdown",
   "metadata": {},
   "source": [
    "You will need to include a ***try/except block*** in case account/s name not found. \n",
    "<br>***Hint:*** the program should count the followers for any provided account"
   ]
  },
  {
   "cell_type": "code",
   "execution_count": null,
   "metadata": {},
   "outputs": [],
   "source": [
    "# This is the url you will scrape in this exercise \n",
    "# You will need to add the account credentials to this url\n",
    "url = 'https://twitter.com/'"
   ]
  },
  {
   "cell_type": "code",
   "execution_count": null,
   "metadata": {},
   "outputs": [],
   "source": [
    "#your code"
   ]
  },
  {
   "cell_type": "markdown",
   "metadata": {},
   "source": [
    "#### List all language names and number of related articles in the order they appear in wikipedia.org"
   ]
  },
  {
   "cell_type": "code",
   "execution_count": null,
   "metadata": {},
   "outputs": [],
   "source": [
    "# This is the url you will scrape in this exercise\n",
    "url = 'https://www.wikipedia.org/'"
   ]
  },
  {
   "cell_type": "code",
   "execution_count": null,
   "metadata": {},
   "outputs": [],
   "source": [
    "#your code"
   ]
  },
  {
   "cell_type": "markdown",
   "metadata": {},
   "source": [
    "#### A list with the different kind of datasets available in data.gov.uk "
   ]
  },
  {
   "cell_type": "code",
   "execution_count": null,
   "metadata": {},
   "outputs": [],
   "source": [
    "# This is the url you will scrape in this exercise\n",
    "url = 'https://data.gov.uk/'"
   ]
  },
  {
   "cell_type": "code",
   "execution_count": null,
   "metadata": {},
   "outputs": [],
   "source": [
    "#your code "
   ]
  },
  {
   "cell_type": "markdown",
   "metadata": {},
   "source": [
    "#### Top 10 languages by number of native speakers stored in a Pandas Dataframe"
   ]
  },
  {
   "cell_type": "code",
   "execution_count": null,
   "metadata": {},
   "outputs": [],
   "source": [
    "# This is the url you will scrape in this exercise\n",
    "url = 'https://en.wikipedia.org/wiki/List_of_languages_by_number_of_native_speakers'"
   ]
  },
  {
   "cell_type": "code",
   "execution_count": null,
   "metadata": {},
   "outputs": [],
   "source": [
    "#your code"
   ]
  },
  {
   "cell_type": "markdown",
   "metadata": {},
   "source": [
    "### BONUS QUESTIONS"
   ]
  },
  {
   "cell_type": "markdown",
   "metadata": {},
   "source": [
    "#### Scrape a certain number of tweets of a given Twitter account."
   ]
  },
  {
   "cell_type": "code",
   "execution_count": null,
   "metadata": {},
   "outputs": [],
   "source": [
    "# This is the url you will scrape in this exercise \n",
    "# You will need to add the account credentials to this url\n",
    "url = 'https://twitter.com/'"
   ]
  },
  {
   "cell_type": "code",
   "execution_count": null,
   "metadata": {},
   "outputs": [],
   "source": [
    "# your code"
   ]
  },
  {
   "cell_type": "markdown",
   "metadata": {},
   "source": [
    "#### IMDB's Top 250 data (movie name, Initial release, director name and stars) as a pandas dataframe"
   ]
  },
  {
   "cell_type": "code",
   "execution_count": null,
   "metadata": {},
   "outputs": [],
   "source": [
    "# This is the url you will scrape in this exercise \n",
    "url = 'https://www.imdb.com/chart/top'"
   ]
  },
  {
   "cell_type": "code",
   "execution_count": null,
   "metadata": {},
   "outputs": [],
   "source": [
    "# your code"
   ]
  },
  {
   "cell_type": "markdown",
   "metadata": {},
   "source": [
    "#### Movie name, year and a brief summary of the top 10 random movies (IMDB) as a pandas dataframe."
   ]
  },
  {
   "cell_type": "code",
   "execution_count": null,
   "metadata": {},
   "outputs": [],
   "source": [
    "#This is the url you will scrape in this exercise\n",
    "url = 'http://www.imdb.com/chart/top'"
   ]
  },
  {
   "cell_type": "code",
   "execution_count": null,
   "metadata": {},
   "outputs": [],
   "source": [
    "#your code"
   ]
  },
  {
   "cell_type": "markdown",
   "metadata": {},
   "source": [
    "#### Find the live weather report (temperature, wind speed, description and weather) of a given city."
   ]
  },
  {
   "cell_type": "code",
   "execution_count": null,
   "metadata": {},
   "outputs": [],
   "source": [
    "#https://openweathermap.org/current\n",
    "city = city=input('Enter the city:')\n",
    "url = 'http://api.openweathermap.org/data/2.5/weather?'+'q='+city+'&APPID=b35975e18dc93725acb092f7272cc6b8&units=metric'"
   ]
  },
  {
   "cell_type": "code",
   "execution_count": null,
   "metadata": {},
   "outputs": [],
   "source": [
    "# your code"
   ]
  },
  {
   "cell_type": "markdown",
   "metadata": {},
   "source": [
    "#### Book name,price and stock availability as a pandas dataframe."
   ]
  },
  {
   "cell_type": "code",
   "execution_count": null,
   "metadata": {},
   "outputs": [],
   "source": [
    "# This is the url you will scrape in this exercise. \n",
    "# It is a fictional bookstore created to be scraped. \n",
    "url = 'http://books.toscrape.com/'"
   ]
  },
  {
   "cell_type": "code",
   "execution_count": null,
   "metadata": {},
   "outputs": [],
   "source": [
    "#your code"
   ]
  }
 ],
 "metadata": {
  "kernelspec": {
   "display_name": "Python 3",
   "language": "python",
   "name": "python3"
  },
  "language_info": {
   "codemirror_mode": {
    "name": "ipython",
    "version": 3
   },
   "file_extension": ".py",
   "mimetype": "text/x-python",
   "name": "python",
   "nbconvert_exporter": "python",
   "pygments_lexer": "ipython3",
   "version": "3.7.3"
  }
 },
 "nbformat": 4,
 "nbformat_minor": 2
}
