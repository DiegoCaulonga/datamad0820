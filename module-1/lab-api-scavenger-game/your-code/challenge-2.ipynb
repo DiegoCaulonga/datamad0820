{
 "cells": [
  {
   "cell_type": "code",
   "execution_count": 1,
   "metadata": {},
   "outputs": [],
   "source": [
    "import requests\n",
    "import json\n",
    "import pandas as pd"
   ]
  },
  {
   "cell_type": "code",
   "execution_count": 9,
   "metadata": {},
   "outputs": [
    {
     "data": {
      "text/plain": [
       "[{'total': 0, 'week': 1568505600, 'days': [0, 0, 0, 0, 0, 0, 0]},\n",
       " {'total': 0, 'week': 1569110400, 'days': [0, 0, 0, 0, 0, 0, 0]},\n",
       " {'total': 0, 'week': 1569715200, 'days': [0, 0, 0, 0, 0, 0, 0]},\n",
       " {'total': 0, 'week': 1570320000, 'days': [0, 0, 0, 0, 0, 0, 0]},\n",
       " {'total': 0, 'week': 1570924800, 'days': [0, 0, 0, 0, 0, 0, 0]},\n",
       " {'total': 0, 'week': 1571529600, 'days': [0, 0, 0, 0, 0, 0, 0]},\n",
       " {'total': 0, 'week': 1572134400, 'days': [0, 0, 0, 0, 0, 0, 0]},\n",
       " {'total': 0, 'week': 1572739200, 'days': [0, 0, 0, 0, 0, 0, 0]},\n",
       " {'total': 0, 'week': 1573344000, 'days': [0, 0, 0, 0, 0, 0, 0]},\n",
       " {'total': 0, 'week': 1573948800, 'days': [0, 0, 0, 0, 0, 0, 0]},\n",
       " {'total': 0, 'week': 1574553600, 'days': [0, 0, 0, 0, 0, 0, 0]},\n",
       " {'total': 0, 'week': 1575158400, 'days': [0, 0, 0, 0, 0, 0, 0]},\n",
       " {'total': 0, 'week': 1575763200, 'days': [0, 0, 0, 0, 0, 0, 0]},\n",
       " {'total': 0, 'week': 1576368000, 'days': [0, 0, 0, 0, 0, 0, 0]},\n",
       " {'total': 0, 'week': 1576972800, 'days': [0, 0, 0, 0, 0, 0, 0]},\n",
       " {'total': 0, 'week': 1577577600, 'days': [0, 0, 0, 0, 0, 0, 0]},\n",
       " {'total': 0, 'week': 1578182400, 'days': [0, 0, 0, 0, 0, 0, 0]},\n",
       " {'total': 0, 'week': 1578787200, 'days': [0, 0, 0, 0, 0, 0, 0]},\n",
       " {'total': 0, 'week': 1579392000, 'days': [0, 0, 0, 0, 0, 0, 0]},\n",
       " {'total': 0, 'week': 1579996800, 'days': [0, 0, 0, 0, 0, 0, 0]},\n",
       " {'total': 0, 'week': 1580601600, 'days': [0, 0, 0, 0, 0, 0, 0]},\n",
       " {'total': 0, 'week': 1581206400, 'days': [0, 0, 0, 0, 0, 0, 0]},\n",
       " {'total': 0, 'week': 1581811200, 'days': [0, 0, 0, 0, 0, 0, 0]},\n",
       " {'total': 0, 'week': 1582416000, 'days': [0, 0, 0, 0, 0, 0, 0]},\n",
       " {'total': 0, 'week': 1583020800, 'days': [0, 0, 0, 0, 0, 0, 0]},\n",
       " {'total': 0, 'week': 1583625600, 'days': [0, 0, 0, 0, 0, 0, 0]},\n",
       " {'total': 0, 'week': 1584230400, 'days': [0, 0, 0, 0, 0, 0, 0]},\n",
       " {'total': 2, 'week': 1584835200, 'days': [0, 1, 0, 0, 0, 1, 0]},\n",
       " {'total': 0, 'week': 1585440000, 'days': [0, 0, 0, 0, 0, 0, 0]},\n",
       " {'total': 0, 'week': 1586044800, 'days': [0, 0, 0, 0, 0, 0, 0]},\n",
       " {'total': 0, 'week': 1586649600, 'days': [0, 0, 0, 0, 0, 0, 0]},\n",
       " {'total': 0, 'week': 1587254400, 'days': [0, 0, 0, 0, 0, 0, 0]},\n",
       " {'total': 0, 'week': 1587859200, 'days': [0, 0, 0, 0, 0, 0, 0]},\n",
       " {'total': 0, 'week': 1588464000, 'days': [0, 0, 0, 0, 0, 0, 0]},\n",
       " {'total': 0, 'week': 1589068800, 'days': [0, 0, 0, 0, 0, 0, 0]},\n",
       " {'total': 0, 'week': 1589673600, 'days': [0, 0, 0, 0, 0, 0, 0]},\n",
       " {'total': 0, 'week': 1590278400, 'days': [0, 0, 0, 0, 0, 0, 0]},\n",
       " {'total': 1, 'week': 1590883200, 'days': [0, 1, 0, 0, 0, 0, 0]},\n",
       " {'total': 0, 'week': 1591488000, 'days': [0, 0, 0, 0, 0, 0, 0]},\n",
       " {'total': 0, 'week': 1592092800, 'days': [0, 0, 0, 0, 0, 0, 0]},\n",
       " {'total': 0, 'week': 1592697600, 'days': [0, 0, 0, 0, 0, 0, 0]},\n",
       " {'total': 0, 'week': 1593302400, 'days': [0, 0, 0, 0, 0, 0, 0]},\n",
       " {'total': 0, 'week': 1593907200, 'days': [0, 0, 0, 0, 0, 0, 0]},\n",
       " {'total': 0, 'week': 1594512000, 'days': [0, 0, 0, 0, 0, 0, 0]},\n",
       " {'total': 0, 'week': 1595116800, 'days': [0, 0, 0, 0, 0, 0, 0]},\n",
       " {'total': 0, 'week': 1595721600, 'days': [0, 0, 0, 0, 0, 0, 0]},\n",
       " {'total': 0, 'week': 1596326400, 'days': [0, 0, 0, 0, 0, 0, 0]},\n",
       " {'total': 0, 'week': 1596931200, 'days': [0, 0, 0, 0, 0, 0, 0]},\n",
       " {'total': 0, 'week': 1597536000, 'days': [0, 0, 0, 0, 0, 0, 0]},\n",
       " {'total': 0, 'week': 1598140800, 'days': [0, 0, 0, 0, 0, 0, 0]},\n",
       " {'total': 0, 'week': 1598745600, 'days': [0, 0, 0, 0, 0, 0, 0]},\n",
       " {'total': 0, 'week': 1599350400, 'days': [0, 0, 0, 0, 0, 0, 0]}]"
      ]
     },
     "execution_count": 9,
     "metadata": {},
     "output_type": "execute_result"
    }
   ],
   "source": [
    "owner = \"ironhack-datalabs\"\n",
    "repo = \"datamad0820\"\n",
    "res = requests.get(f\"https://api.github.com/repos/{owner}/{repo}/stats/commit_activity\")\n",
    "x = res.json()\n",
    "r = pd.DataFrame(x)\n",
    "x"
   ]
  },
  {
   "cell_type": "code",
   "execution_count": 11,
   "metadata": {},
   "outputs": [
    {
     "data": {
      "text/plain": [
       "3"
      ]
     },
     "execution_count": 11,
     "metadata": {},
     "output_type": "execute_result"
    }
   ],
   "source": [
    "r[\"total\"].sum()"
   ]
  },
  {
   "cell_type": "code",
   "execution_count": null,
   "metadata": {},
   "outputs": [],
   "source": [
    "#lo hemos convertido en un DataFrame al no saber como sacar el dato de la lista en sucio"
   ]
  }
 ],
 "metadata": {
  "kernelspec": {
   "display_name": "Python 3",
   "language": "python",
   "name": "python3"
  },
  "language_info": {
   "codemirror_mode": {
    "name": "ipython",
    "version": 3
   },
   "file_extension": ".py",
   "mimetype": "text/x-python",
   "name": "python",
   "nbconvert_exporter": "python",
   "pygments_lexer": "ipython3",
   "version": "3.7.3"
  }
 },
 "nbformat": 4,
 "nbformat_minor": 4
}
